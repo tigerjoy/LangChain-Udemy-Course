{
 "cells": [
  {
   "cell_type": "markdown",
   "metadata": {},
   "source": [
    "# Callbacks"
   ]
  },
  {
   "cell_type": "code",
   "execution_count": 1,
   "metadata": {},
   "outputs": [
    {
     "data": {
      "text/plain": [
       "True"
      ]
     },
     "execution_count": 1,
     "metadata": {},
     "output_type": "execute_result"
    }
   ],
   "source": [
    "from dotenv import load_dotenv, find_dotenv\n",
    "\n",
    "load_dotenv(find_dotenv())"
   ]
  },
  {
   "cell_type": "code",
   "execution_count": 5,
   "metadata": {},
   "outputs": [
    {
     "name": "stdout",
     "output_type": "stream",
     "text": [
      "\n",
      "\n",
      "\u001b[1m> Entering new LLMChain chain...\u001b[0m\n",
      "Prompt after formatting:\n",
      "\u001b[32;1m\u001b[1;3mTell me a joke about rabbit\u001b[0m\n",
      "\n",
      "\u001b[1m> Finished chain.\u001b[0m\n"
     ]
    },
    {
     "data": {
      "text/plain": [
       "{'input': 'rabbit',\n",
       " 'text': 'Why did the rabbit bring a ladder to the party?\\n\\nBecause it heard the drinks were on the house! 🐇🍹'}"
      ]
     },
     "execution_count": 5,
     "metadata": {},
     "output_type": "execute_result"
    }
   ],
   "source": [
    "import os\n",
    "from langchain_core.runnables import RunnableConfig\n",
    "from langchain.callbacks import StdOutCallbackHandler\n",
    "from langchain.chains.llm import LLMChain\n",
    "from langchain_openai import ChatOpenAI\n",
    "from langchain.prompts import PromptTemplate\n",
    "from pydantic import SecretStr\n",
    "\n",
    "\n",
    "llm = ChatOpenAI(\n",
    "    model=os.getenv(\"MODEL\", \"\"),\n",
    "    base_url=os.getenv(\"API_URL\", \"\"),\n",
    "    api_key=SecretStr(os.getenv(\"API_KEY\", \"\")),\n",
    "    temperature=0\n",
    ")\n",
    "\n",
    "handler = StdOutCallbackHandler()\n",
    "\n",
    "prompt_template = PromptTemplate(input_variables=[\"input\"], template=\"Tell me a joke about {input}\")\n",
    "\n",
    "# The callbacks can be passed to the chain\n",
    "chain = LLMChain(llm=llm, prompt=prompt_template, callbacks=[handler])\n",
    "\n",
    "config = RunnableConfig(\n",
    "  callbacks=[handler]\n",
    ")\n",
    "\n",
    "# chain.invoke(input={\"input\": \"rabbit\"}, config=config)\n",
    "\n",
    "# Called without the RunnableConfig handler\n",
    "chain.invoke(input={\"input\": \"rabbit\"},)"
   ]
  },
  {
   "cell_type": "code",
   "execution_count": 6,
   "metadata": {},
   "outputs": [],
   "source": [
    "from langchain.callbacks.base import BaseCallbackHandler\n",
    "\n",
    "\n",
    "class MyCustomHandler(BaseCallbackHandler):\n",
    "    # Can be useful if we want to log how many\n",
    "    # tokens has been used\n",
    "    def on_llm_end(self, response, **kwargs) -> None:\n",
    "        print(f\"REPONSE: \", response)\n",
    "\n",
    "handler = MyCustomHandler()\n",
    "\n",
    "config = RunnableConfig(\n",
    "  callbacks=[handler]\n",
    ")"
   ]
  },
  {
   "cell_type": "code",
   "execution_count": 7,
   "metadata": {},
   "outputs": [
    {
     "name": "stdout",
     "output_type": "stream",
     "text": [
      "\n",
      "\n",
      "\u001b[1m> Entering new LLMChain chain...\u001b[0m\n",
      "Prompt after formatting:\n",
      "\u001b[32;1m\u001b[1;3mTell me a joke about rabbit\u001b[0m\n",
      "REPONSE:  generations=[[ChatGeneration(text='Why did the rabbit bring a ladder to the party?\\n\\nBecause it heard the drinks were on the house! 🐇🍹', generation_info={'finish_reason': 'stop', 'logprobs': None}, message=AIMessage(content='Why did the rabbit bring a ladder to the party?\\n\\nBecause it heard the drinks were on the house! 🐇🍹', additional_kwargs={'refusal': None}, response_metadata={'token_usage': {'completion_tokens': 39, 'prompt_tokens': 73, 'total_tokens': 112, 'completion_tokens_details': None, 'prompt_tokens_details': None}, 'model_name': 'openai/gpt-oss-20b', 'system_fingerprint': 'openai/gpt-oss-20b', 'id': 'chatcmpl-7f8m6ig57lem5sna9adsmp', 'service_tier': None, 'finish_reason': 'stop', 'logprobs': None}, id='run--abf4c46c-8dab-488b-94a7-b52eea5a6091-0', usage_metadata={'input_tokens': 73, 'output_tokens': 39, 'total_tokens': 112, 'input_token_details': {}, 'output_token_details': {}}))]] llm_output={'token_usage': {'completion_tokens': 39, 'prompt_tokens': 73, 'total_tokens': 112, 'completion_tokens_details': None, 'prompt_tokens_details': None}, 'model_name': 'openai/gpt-oss-20b', 'system_fingerprint': 'openai/gpt-oss-20b', 'id': 'chatcmpl-7f8m6ig57lem5sna9adsmp', 'service_tier': None} run=None type='LLMResult'\n",
      "\n",
      "\u001b[1m> Finished chain.\u001b[0m\n"
     ]
    },
    {
     "data": {
      "text/plain": [
       "{'input': 'rabbit',\n",
       " 'text': 'Why did the rabbit bring a ladder to the party?\\n\\nBecause it heard the drinks were on the house! 🐇🍹'}"
      ]
     },
     "execution_count": 7,
     "metadata": {},
     "output_type": "execute_result"
    }
   ],
   "source": [
    "chain.invoke(input={\"input\": \"rabbit\"}, config=config)"
   ]
  },
  {
   "cell_type": "markdown",
   "metadata": {},
   "source": [
    "Langchain has got a convenice context manager function to make it easy to track costs, token usage etc."
   ]
  },
  {
   "cell_type": "code",
   "execution_count": 9,
   "metadata": {},
   "outputs": [
    {
     "name": "stdout",
     "output_type": "stream",
     "text": [
      "\n",
      "\n",
      "\u001b[1m> Entering new LLMChain chain...\u001b[0m\n",
      "Prompt after formatting:\n",
      "\u001b[32;1m\u001b[1;3mTell me a joke about rabbit\u001b[0m\n",
      "\n",
      "\u001b[1m> Finished chain.\u001b[0m\n",
      "0.0\n"
     ]
    }
   ],
   "source": [
    "from langchain_community.callbacks.manager import get_openai_callback\n",
    "\n",
    "with get_openai_callback() as cb:\n",
    "    chain.invoke(input={\"input\": \"rabbit\"})\n",
    "\n",
    "print(cb.total_cost)"
   ]
  }
 ],
 "metadata": {
  "kernelspec": {
   "display_name": "venv",
   "language": "python",
   "name": "python3"
  },
  "language_info": {
   "codemirror_mode": {
    "name": "ipython",
    "version": 3
   },
   "file_extension": ".py",
   "mimetype": "text/x-python",
   "name": "python",
   "nbconvert_exporter": "python",
   "pygments_lexer": "ipython3",
   "version": "3.13.1"
  }
 },
 "nbformat": 4,
 "nbformat_minor": 2
}
